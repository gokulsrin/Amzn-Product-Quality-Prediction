{
 "cells": [
  {
   "cell_type": "code",
   "execution_count": 1,
   "metadata": {},
   "outputs": [],
   "source": [
    "from sklearn import *\n",
    "\n",
    "import numpy as np\n",
    "import pandas as pd\n",
    "import sklearn as sk \n",
    "import sklearn.model_selection\n",
    "from sklearn.feature_extraction.text import CountVectorizer, HashingVectorizer\n",
    "from sklearn.linear_model import LogisticRegression\n",
    "from sklearn.ensemble import RandomForestClassifier\n",
    "from sklearn.svm import SVC\n",
    "from sklearn import preprocessing\n",
    "from sklearn.metrics import f1_score\n",
    "from sklearn.naive_bayes import GaussianNB\n",
    "import time\n",
    "\n",
    "# For Gokul's machine\n",
    "df = pd.read_csv(\"./train.csv\")\n",
    "\n",
    "#array of all the summaries\n",
    "\n",
    "og_summaries = df['summary']\n",
    "summaries = df[\"summary\"]\n",
    "\n",
    "#array of the overalls\n",
    "overall = df[\"overall\"]\n",
    "\n",
    "#array of product nums\n",
    "products = df[\"amazon-id\"]\n",
    "\n",
    "og_amazon_reviews = df['reviewText']\n",
    "amazon_reviews = df['reviewText']"
   ]
  },
  {
   "cell_type": "code",
   "execution_count": 2,
   "metadata": {},
   "outputs": [
    {
     "name": "stdout",
     "output_type": "stream",
     "text": [
      "{<class 'str'>}\n"
     ]
    }
   ],
   "source": [
    "# Using ratings associated with reviews as indicators of sentiment\n",
    "review_sentiments = [int(overall[i] >= 5) for i in range(len(overall))]\n",
    "\n",
    "for i in range(len(amazon_reviews)):\n",
    "    if type(amazon_reviews[i])!=str:\n",
    "        amazon_reviews.pop(i)\n",
    "        review_sentiments.pop(i)\n",
    "print(set([type(r) for r in amazon_reviews]))\n",
    "\n",
    "#create train test split\n",
    "x_train, x_test, y_train, y_test = sk.model_selection.train_test_split(amazon_reviews, \n",
    "                                                                       review_sentiments, \n",
    "                                                                       random_state=1)\n"
   ]
  },
  {
   "cell_type": "code",
   "execution_count": 3,
   "metadata": {},
   "outputs": [
    {
     "name": "stderr",
     "output_type": "stream",
     "text": [
      "/Users/gokulsrin/anaconda3/lib/python3.7/site-packages/sklearn/linear_model/logistic.py:432: FutureWarning: Default solver will be changed to 'lbfgs' in 0.22. Specify a solver to silence this warning.\n",
      "  FutureWarning)\n"
     ]
    },
    {
     "name": "stdout",
     "output_type": "stream",
     "text": [
      "Test accuracy: 80.91740476704831\n",
      "Time taken: 4.58 seconds\n"
     ]
    }
   ],
   "source": [
    "#sentiment model based on reviews\n",
    "vect = HashingVectorizer()\n",
    "\n",
    "x_train = vect.fit_transform(x_train)\n",
    "x_test = vect.transform(x_test)\n",
    "\n",
    "# We can experiment with different numbers of max iterations\n",
    "# 100 iters is default\n",
    "# iters = [1000]\n",
    "\n",
    "start = time.time()\n",
    "review_clf = LogisticRegression(max_iter=500)\n",
    "review_clf.fit(x_train, y_train)\n",
    "end = time.time()\n",
    "print(\"Test accuracy: {}\".format(100*review_clf.score(x_test, y_test)))\n",
    "print(\"Time taken: {:.2f} seconds\".format(end-start))"
   ]
  },
  {
   "cell_type": "code",
   "execution_count": 4,
   "metadata": {},
   "outputs": [
    {
     "name": "stdout",
     "output_type": "stream",
     "text": [
      "{<class 'str'>}\n"
     ]
    }
   ],
   "source": [
    "#summary per product\n",
    "summary_sentiments = [int(overall[i] >= 5) for i in range(len(overall))]\n",
    "for i in range(len(summaries)):\n",
    "    if type(summaries[i])!=str:\n",
    "        summaries.pop(i)\n",
    "        summary_sentiments.pop(i)\n",
    "print(set([type(s) for s in summaries]))"
   ]
  },
  {
   "cell_type": "code",
   "execution_count": 5,
   "metadata": {},
   "outputs": [
    {
     "name": "stdout",
     "output_type": "stream",
     "text": [
      "Test accuracy: 77.88219197810903\n",
      "Time taken: 0.87 seconds\n"
     ]
    }
   ],
   "source": [
    "x_train, x_test, y_train, y_test = sk.model_selection.train_test_split(summaries, \n",
    "                                                                       summary_sentiments, \n",
    "                                                                       random_state=1)\n",
    "# create Summary Sentiment model\n",
    "\n",
    "x_train = vect.fit_transform(x_train)\n",
    "x_test = vect.transform(x_test)\n",
    "\n",
    "# We can experiment with different numbers of max iterations\n",
    "# 100 iters is default\n",
    "# iters = [1000]\n",
    "\n",
    "start = time.time()\n",
    "summary_clf = LogisticRegression(max_iter=500)\n",
    "summary_clf.fit(x_train, y_train)\n",
    "end = time.time()\n",
    "print(\"Test accuracy: {}\".format(100*summary_clf.score(x_test, y_test)))\n",
    "print(\"Time taken: {:.2f} seconds\".format(end-start))"
   ]
  },
  {
   "cell_type": "code",
   "execution_count": 6,
   "metadata": {},
   "outputs": [
    {
     "ename": "IndexError",
     "evalue": "list index out of range",
     "output_type": "error",
     "traceback": [
      "\u001b[0;31m---------------------------------------------------------------------------\u001b[0m",
      "\u001b[0;31mIndexError\u001b[0m                                Traceback (most recent call last)",
      "\u001b[0;32m<ipython-input-6-00b6c0a763a7>\u001b[0m in \u001b[0;36m<module>\u001b[0;34m\u001b[0m\n\u001b[1;32m     14\u001b[0m         \u001b[0mamz_summary_sentiments\u001b[0m\u001b[0;34m[\u001b[0m\u001b[0mproducts\u001b[0m\u001b[0;34m[\u001b[0m\u001b[0mi\u001b[0m\u001b[0;34m]\u001b[0m\u001b[0;34m]\u001b[0m \u001b[0;34m=\u001b[0m \u001b[0;34m[\u001b[0m\u001b[0msummary_predictions\u001b[0m\u001b[0;34m[\u001b[0m\u001b[0mi\u001b[0m\u001b[0;34m]\u001b[0m\u001b[0;34m]\u001b[0m\u001b[0;34m\u001b[0m\u001b[0;34m\u001b[0m\u001b[0m\n\u001b[1;32m     15\u001b[0m     \u001b[0;32melse\u001b[0m\u001b[0;34m:\u001b[0m\u001b[0;34m\u001b[0m\u001b[0;34m\u001b[0m\u001b[0m\n\u001b[0;32m---> 16\u001b[0;31m         \u001b[0mamz_review_sentiments\u001b[0m\u001b[0;34m[\u001b[0m\u001b[0mproducts\u001b[0m\u001b[0;34m[\u001b[0m\u001b[0mi\u001b[0m\u001b[0;34m]\u001b[0m\u001b[0;34m]\u001b[0m\u001b[0;34m.\u001b[0m\u001b[0mappend\u001b[0m\u001b[0;34m(\u001b[0m\u001b[0mreview_predictions\u001b[0m\u001b[0;34m[\u001b[0m\u001b[0mi\u001b[0m\u001b[0;34m]\u001b[0m\u001b[0;34m)\u001b[0m\u001b[0;34m\u001b[0m\u001b[0;34m\u001b[0m\u001b[0m\n\u001b[0m\u001b[1;32m     17\u001b[0m         \u001b[0mamz_summary_sentiments\u001b[0m\u001b[0;34m[\u001b[0m\u001b[0mproducts\u001b[0m\u001b[0;34m[\u001b[0m\u001b[0mi\u001b[0m\u001b[0;34m]\u001b[0m\u001b[0;34m]\u001b[0m\u001b[0;34m.\u001b[0m\u001b[0mappend\u001b[0m\u001b[0;34m(\u001b[0m\u001b[0msummary_predictions\u001b[0m\u001b[0;34m[\u001b[0m\u001b[0mi\u001b[0m\u001b[0;34m]\u001b[0m\u001b[0;34m)\u001b[0m\u001b[0;34m\u001b[0m\u001b[0;34m\u001b[0m\u001b[0m\n\u001b[1;32m     18\u001b[0m \u001b[0;34m\u001b[0m\u001b[0m\n",
      "\u001b[0;31mIndexError\u001b[0m: list index out of range"
     ]
    }
   ],
   "source": [
    "summary_data = vect.transform(df['summary'].values.astype('U'))\n",
    "review_data = vect.transform(df['reviewText'].values.astype('U'))\n",
    "\n",
    "summary_predictions = summary_clf.predict(summary_data)\n",
    "review_predictions = review_clf.predict(review_data)\n",
    "\n",
    "review_predictions, summary_predictions = list(review_predictions), list(summary_predictions)\n",
    "\n",
    "amz_review_sentiments, amz_summary_sentiments = {}, {}\n",
    "\n",
    "for i in range(len(products)):\n",
    "    if products[i] not in amz_review_sentiments:\n",
    "        amz_review_sentiments[products[i]] = [review_predictions[i]]\n",
    "        amz_summary_sentiments[products[i]] = [summary_predictions[i]]\n",
    "    else:\n",
    "        amz_review_sentiments[products[i]].append(review_predictions[i])\n",
    "        amz_summary_sentiments[products[i]].append(summary_predictions[i])\n",
    "        \n",
    "avg_review_sentiments = [np.average(amz_review_sentiments[prod]) for prod in amz_review_sentiments]\n",
    "avg_summary_sentiments = [np.average(amz_summary_sentiments[prod]) for prod in amz_summary_sentiments]\n",
    "\n",
    "avg_review_sentiments = [[score] for score in avg_review_sentiments]\n",
    "avg_summary_sentiments = [[score] for score in avg_summary_sentiments]"
   ]
  },
  {
   "cell_type": "code",
   "execution_count": null,
   "metadata": {},
   "outputs": [],
   "source": [
    "X = np.zeros((len(avg_review_sentiments), 2))\n",
    "for i in range(X.shape[0]):\n",
    "    X[i] = (avg_review_sentiments[i][0], avg_summary_sentiments[i][0])\n"
   ]
  },
  {
   "cell_type": "code",
   "execution_count": null,
   "metadata": {},
   "outputs": [],
   "source": [
    "x_train, x_test, y_train, y_test = sk.model_selection.train_test_split(X, random_state=1)\n",
    "x_train = vect.fit_transform(x_train)\n",
    "x_test = vect.transform(x_test)\n",
    "clf = LogisticRegression(max_iter=500)\n",
    "clf.fit(x_train, y_train)"
   ]
  },
  {
   "cell_type": "code",
   "execution_count": null,
   "metadata": {},
   "outputs": [],
   "source": [
    "print(\"Weighted F1 using review sentiment and summary sentiment: {:.2f}\".format(100*f1_score(y_test, \n",
    "           clf.predict(X_test), average='weighted')))"
   ]
  }
 ],
 "metadata": {
  "kernelspec": {
   "display_name": "Python 3",
   "language": "python",
   "name": "python3"
  },
  "language_info": {
   "codemirror_mode": {
    "name": "ipython",
    "version": 3
   },
   "file_extension": ".py",
   "mimetype": "text/x-python",
   "name": "python",
   "nbconvert_exporter": "python",
   "pygments_lexer": "ipython3",
   "version": "3.7.4"
  }
 },
 "nbformat": 4,
 "nbformat_minor": 2
}
